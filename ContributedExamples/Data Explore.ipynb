{
 "cells": [
  {
   "cell_type": "code",
   "execution_count": 3,
   "metadata": {},
   "outputs": [],
   "source": [
    "import holoviews as hv\n",
    "import matplotlib.pyplot as plt\n",
    "import panel as pn\n",
    "import xarray as xr\n",
    "import cosima_cookbook as cc\n",
    "import pandas as pd"
   ]
  },
  {
   "cell_type": "code",
   "execution_count": 6,
   "metadata": {},
   "outputs": [],
   "source": [
    "import ipywidgets as widgets\n",
    "from ipywidgets import interact, interact_manual"
   ]
  },
  {
   "cell_type": "code",
   "execution_count": 2,
   "metadata": {},
   "outputs": [],
   "source": [
    "session = cc.database.create_session(db='/g/data/ik11/databases/cosima_master.db')"
   ]
  },
  {
   "cell_type": "code",
   "execution_count": 7,
   "metadata": {},
   "outputs": [],
   "source": [
    "expts = cc.querying.get_experiments(session)"
   ]
  },
  {
   "cell_type": "code",
   "execution_count": 16,
   "metadata": {},
   "outputs": [],
   "source": [
    "import ipywidgets as widgets\n",
    "from IPython.display import display"
   ]
  },
  {
   "cell_type": "code",
   "execution_count": 73,
   "metadata": {},
   "outputs": [
    {
     "data": {
      "application/vnd.jupyter.widget-view+json": {
       "model_id": "484bcd1aa86b48c79961623cc06ab360",
       "version_major": 2,
       "version_minor": 0
      },
      "text/plain": [
       "HBox(children=(Select(description='Experiments:', options=('01deg_jra55v13_ryf9091_OFAM3visc', '01deg_jra55v13…"
      ]
     },
     "metadata": {},
     "output_type": "display_data"
    },
    {
     "data": {
      "application/vnd.jupyter.widget-view+json": {
       "model_id": "758c7a0b1ae141d69bdadaab424c966b",
       "version_major": 2,
       "version_minor": 0
      },
      "text/plain": [
       "Output(layout=Layout(border='1px solid black'))"
      ]
     },
     "metadata": {},
     "output_type": "display_data"
    },
    {
     "name": "stdout",
     "output_type": "stream",
     "text": [
      "Error loading data\n",
      "Loaded data using xarray: ds\n",
      "Error loading data\n",
      "Loaded data using xarray: ds\n",
      "Loaded data using xarray: ds\n",
      "Loaded data using xarray: ds\n"
     ]
    }
   ],
   "source": [
    "expt_selector = widgets.Select(\n",
    "    options=expts.experiment,\n",
    "    rows=10,\n",
    "    description='Experiments:',\n",
    "    disabled=False\n",
    ")\n",
    "var_selector = widgets.Select(\n",
    "    options=cc.querying.get_variables(session, expt_selector.value).name,\n",
    "    rows=10,\n",
    "    description='Variables:',\n",
    "    disabled=False\n",
    ")\n",
    "n_selector = widgets.BoundedIntText(\n",
    "    value=1,\n",
    "    min=0,\n",
    "    step=1,\n",
    "    description='Number files to load:',\n",
    "    disabled=False\n",
    ")\n",
    "out = widgets.Output(layout={'border': '1px solid black'})\n",
    "\n",
    "ds = None\n",
    "\n",
    "def expt_eventhandler(change):\n",
    "    var_selector.options = cc.querying.get_variables(session, expt_selector.value).name\n",
    "\n",
    "def var_eventhandler(change):\n",
    "    try:\n",
    "        global ds\n",
    "        ds = cc.querying.getvar(expt_selector.value, var_selector.value, session, n=n_selector.value)\n",
    "    except:\n",
    "        print('Error loading data')\n",
    "        pass\n",
    "    finally:\n",
    "        print('Loaded data using xarray: ds')\n",
    "        out.clear_output()\n",
    "        out.append_display_data(ds)\n",
    "\n",
    "\n",
    "expt_selector.observe(expt_eventhandler, names='value')\n",
    "var_selector.observe(var_eventhandler, names='value')\n",
    "n_selector.observe(var_eventhandler, names='value')\n",
    "\n",
    "\n",
    "selectors = widgets.HBox([expt_selector,var_selector, n_selector])\n",
    "display(selectors)\n",
    "display(out)"
   ]
  },
  {
   "cell_type": "code",
   "execution_count": null,
   "metadata": {},
   "outputs": [],
   "source": []
  }
 ],
 "metadata": {
  "kernelspec": {
   "display_name": "Python [conda env:analysis3-20.04] *",
   "language": "python",
   "name": "conda-env-analysis3-20.04-py"
  },
  "language_info": {
   "codemirror_mode": {
    "name": "ipython",
    "version": 3
   },
   "file_extension": ".py",
   "mimetype": "text/x-python",
   "name": "python",
   "nbconvert_exporter": "python",
   "pygments_lexer": "ipython3",
   "version": "3.7.6"
  }
 },
 "nbformat": 4,
 "nbformat_minor": 4
}
